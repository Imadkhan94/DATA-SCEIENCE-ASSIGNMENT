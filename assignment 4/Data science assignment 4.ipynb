{
 "cells": [
  {
   "cell_type": "markdown",
   "id": "218ee5db",
   "metadata": {},
   "source": [
    "## Assignment no 4"
   ]
  },
  {
   "cell_type": "code",
   "execution_count": 1,
   "id": "bc9085c9",
   "metadata": {},
   "outputs": [],
   "source": [
    "import matplotlib.pyplot as plt\n",
    "import numpy as np\n",
    "import pandas as pd\n",
    "import seaborn as sns"
   ]
  },
  {
   "cell_type": "code",
   "execution_count": 2,
   "id": "c505a090",
   "metadata": {},
   "outputs": [],
   "source": [
    "data=pd.read_csv(\"netflixData.csv\")"
   ]
  },
  {
   "cell_type": "code",
   "execution_count": 3,
   "id": "ac8c7d7c",
   "metadata": {},
   "outputs": [
    {
     "data": {
      "text/html": [
       "<div>\n",
       "<style scoped>\n",
       "    .dataframe tbody tr th:only-of-type {\n",
       "        vertical-align: middle;\n",
       "    }\n",
       "\n",
       "    .dataframe tbody tr th {\n",
       "        vertical-align: top;\n",
       "    }\n",
       "\n",
       "    .dataframe thead th {\n",
       "        text-align: right;\n",
       "    }\n",
       "</style>\n",
       "<table border=\"1\" class=\"dataframe\">\n",
       "  <thead>\n",
       "    <tr style=\"text-align: right;\">\n",
       "      <th></th>\n",
       "      <th>Show Id</th>\n",
       "      <th>Title</th>\n",
       "      <th>Description</th>\n",
       "      <th>Director</th>\n",
       "      <th>Genres</th>\n",
       "      <th>Cast</th>\n",
       "      <th>Production Country</th>\n",
       "      <th>Release Date</th>\n",
       "      <th>Rating</th>\n",
       "      <th>Duration</th>\n",
       "      <th>Imdb Score</th>\n",
       "      <th>Content Type</th>\n",
       "      <th>Date Added</th>\n",
       "    </tr>\n",
       "  </thead>\n",
       "  <tbody>\n",
       "    <tr>\n",
       "      <th>0</th>\n",
       "      <td>cc1b6ed9-cf9e-4057-8303-34577fb54477</td>\n",
       "      <td>(Un)Well</td>\n",
       "      <td>This docuseries takes a deep dive into the luc...</td>\n",
       "      <td>NaN</td>\n",
       "      <td>Reality TV</td>\n",
       "      <td>NaN</td>\n",
       "      <td>United States</td>\n",
       "      <td>2020.0</td>\n",
       "      <td>TV-MA</td>\n",
       "      <td>1 Season</td>\n",
       "      <td>6.6/10</td>\n",
       "      <td>TV Show</td>\n",
       "      <td>NaN</td>\n",
       "    </tr>\n",
       "    <tr>\n",
       "      <th>1</th>\n",
       "      <td>e2ef4e91-fb25-42ab-b485-be8e3b23dedb</td>\n",
       "      <td>#Alive</td>\n",
       "      <td>As a grisly virus rampages a city, a lone man ...</td>\n",
       "      <td>Cho Il</td>\n",
       "      <td>Horror Movies, International Movies, Thrillers</td>\n",
       "      <td>Yoo Ah-in, Park Shin-hye</td>\n",
       "      <td>South Korea</td>\n",
       "      <td>2020.0</td>\n",
       "      <td>TV-MA</td>\n",
       "      <td>99 min</td>\n",
       "      <td>6.2/10</td>\n",
       "      <td>Movie</td>\n",
       "      <td>September 8, 2020</td>\n",
       "    </tr>\n",
       "    <tr>\n",
       "      <th>2</th>\n",
       "      <td>b01b73b7-81f6-47a7-86d8-acb63080d525</td>\n",
       "      <td>#AnneFrank - Parallel Stories</td>\n",
       "      <td>Through her diary, Anne Frank's story is retol...</td>\n",
       "      <td>Sabina Fedeli, Anna Migotto</td>\n",
       "      <td>Documentaries, International Movies</td>\n",
       "      <td>Helen Mirren, Gengher Gatti</td>\n",
       "      <td>Italy</td>\n",
       "      <td>2019.0</td>\n",
       "      <td>TV-14</td>\n",
       "      <td>95 min</td>\n",
       "      <td>6.4/10</td>\n",
       "      <td>Movie</td>\n",
       "      <td>July 1, 2020</td>\n",
       "    </tr>\n",
       "    <tr>\n",
       "      <th>3</th>\n",
       "      <td>b6611af0-f53c-4a08-9ffa-9716dc57eb9c</td>\n",
       "      <td>#blackAF</td>\n",
       "      <td>Kenya Barris and his family navigate relations...</td>\n",
       "      <td>NaN</td>\n",
       "      <td>TV Comedies</td>\n",
       "      <td>Kenya Barris, Rashida Jones, Iman Benson, Genn...</td>\n",
       "      <td>United States</td>\n",
       "      <td>2020.0</td>\n",
       "      <td>TV-MA</td>\n",
       "      <td>1 Season</td>\n",
       "      <td>6.6/10</td>\n",
       "      <td>TV Show</td>\n",
       "      <td>NaN</td>\n",
       "    </tr>\n",
       "    <tr>\n",
       "      <th>4</th>\n",
       "      <td>7f2d4170-bab8-4d75-adc2-197f7124c070</td>\n",
       "      <td>#cats_the_mewvie</td>\n",
       "      <td>This pawesome documentary explores how our fel...</td>\n",
       "      <td>Michael Margolis</td>\n",
       "      <td>Documentaries, International Movies</td>\n",
       "      <td>NaN</td>\n",
       "      <td>Canada</td>\n",
       "      <td>2020.0</td>\n",
       "      <td>TV-14</td>\n",
       "      <td>90 min</td>\n",
       "      <td>5.1/10</td>\n",
       "      <td>Movie</td>\n",
       "      <td>February 5, 2020</td>\n",
       "    </tr>\n",
       "    <tr>\n",
       "      <th>...</th>\n",
       "      <td>...</td>\n",
       "      <td>...</td>\n",
       "      <td>...</td>\n",
       "      <td>...</td>\n",
       "      <td>...</td>\n",
       "      <td>...</td>\n",
       "      <td>...</td>\n",
       "      <td>...</td>\n",
       "      <td>...</td>\n",
       "      <td>...</td>\n",
       "      <td>...</td>\n",
       "      <td>...</td>\n",
       "      <td>...</td>\n",
       "    </tr>\n",
       "    <tr>\n",
       "      <th>5962</th>\n",
       "      <td>62b8b682-f191-4c10-aa04-32319329bd8d</td>\n",
       "      <td>الف مبروك</td>\n",
       "      <td>On his wedding day, an arrogant, greedy accoun...</td>\n",
       "      <td>Ahmed Nader Galal</td>\n",
       "      <td>Comedies, Dramas, International Movies</td>\n",
       "      <td>Ahmed Helmy, Laila Ezz El Arab, Mahmoud El Fis...</td>\n",
       "      <td>Egypt</td>\n",
       "      <td>2009.0</td>\n",
       "      <td>TV-14</td>\n",
       "      <td>115 min</td>\n",
       "      <td>7.4/10</td>\n",
       "      <td>Movie</td>\n",
       "      <td>April 25, 2020</td>\n",
       "    </tr>\n",
       "    <tr>\n",
       "      <th>5963</th>\n",
       "      <td>5bed77ab-5e31-4216-8b51-44c9a35442e6</td>\n",
       "      <td>دفعة القاهرة</td>\n",
       "      <td>A group of women leaves Kuwait to attend unive...</td>\n",
       "      <td>NaN</td>\n",
       "      <td>International TV Shows, TV Dramas</td>\n",
       "      <td>Bashar al-Shatti, Fatima Al Safi, Maram Baloch...</td>\n",
       "      <td>NaN</td>\n",
       "      <td>2019.0</td>\n",
       "      <td>TV-14</td>\n",
       "      <td>1 Season</td>\n",
       "      <td>NaN</td>\n",
       "      <td>TV Show</td>\n",
       "      <td>NaN</td>\n",
       "    </tr>\n",
       "    <tr>\n",
       "      <th>5964</th>\n",
       "      <td>4661ec0c-8692-4661-bc76-a96412b311fd</td>\n",
       "      <td>海的儿子</td>\n",
       "      <td>Two brothers start a new life in Singapore, wh...</td>\n",
       "      <td>NaN</td>\n",
       "      <td>International TV Shows, TV Dramas</td>\n",
       "      <td>Li Nanxing, Christopher Lee, Jesseca Liu, Appl...</td>\n",
       "      <td>NaN</td>\n",
       "      <td>2016.0</td>\n",
       "      <td>TV-14</td>\n",
       "      <td>1 Season</td>\n",
       "      <td>NaN</td>\n",
       "      <td>TV Show</td>\n",
       "      <td>NaN</td>\n",
       "    </tr>\n",
       "    <tr>\n",
       "      <th>5965</th>\n",
       "      <td>145c93a7-1924-403c-a933-4ede8ad66f26</td>\n",
       "      <td>반드시 잡는다</td>\n",
       "      <td>After people in his town start turning up dead...</td>\n",
       "      <td>Hong-seon Kim</td>\n",
       "      <td>Dramas, International Movies, Thrillers</td>\n",
       "      <td>Baek Yoon-sik</td>\n",
       "      <td>South Korea</td>\n",
       "      <td>2017.0</td>\n",
       "      <td>TV-MA</td>\n",
       "      <td>110 min</td>\n",
       "      <td>6.5/10</td>\n",
       "      <td>Movie</td>\n",
       "      <td>February 28, 2018</td>\n",
       "    </tr>\n",
       "    <tr>\n",
       "      <th>5966</th>\n",
       "      <td>d4613d34-cb71-4bd6-b570-fa857f02c44d</td>\n",
       "      <td>최강전사 미니특공대 : 영웅의 탄생</td>\n",
       "      <td>Miniforce, a special task force of elite range...</td>\n",
       "      <td>Young Jun Lee</td>\n",
       "      <td>Children &amp; Family Movies</td>\n",
       "      <td>Um Sang-hyun, Yang Jeong-hwa, Jeon Tae-yeol, S...</td>\n",
       "      <td>NaN</td>\n",
       "      <td>2018.0</td>\n",
       "      <td>TV-Y7</td>\n",
       "      <td>68 min</td>\n",
       "      <td>4.7/10</td>\n",
       "      <td>Movie</td>\n",
       "      <td>September 1, 2018</td>\n",
       "    </tr>\n",
       "  </tbody>\n",
       "</table>\n",
       "<p>5967 rows × 13 columns</p>\n",
       "</div>"
      ],
      "text/plain": [
       "                                   Show Id                          Title  \\\n",
       "0     cc1b6ed9-cf9e-4057-8303-34577fb54477                       (Un)Well   \n",
       "1     e2ef4e91-fb25-42ab-b485-be8e3b23dedb                         #Alive   \n",
       "2     b01b73b7-81f6-47a7-86d8-acb63080d525  #AnneFrank - Parallel Stories   \n",
       "3     b6611af0-f53c-4a08-9ffa-9716dc57eb9c                       #blackAF   \n",
       "4     7f2d4170-bab8-4d75-adc2-197f7124c070               #cats_the_mewvie   \n",
       "...                                    ...                            ...   \n",
       "5962  62b8b682-f191-4c10-aa04-32319329bd8d                      الف مبروك   \n",
       "5963  5bed77ab-5e31-4216-8b51-44c9a35442e6                   دفعة القاهرة   \n",
       "5964  4661ec0c-8692-4661-bc76-a96412b311fd                           海的儿子   \n",
       "5965  145c93a7-1924-403c-a933-4ede8ad66f26                        반드시 잡는다   \n",
       "5966  d4613d34-cb71-4bd6-b570-fa857f02c44d            최강전사 미니특공대 : 영웅의 탄생   \n",
       "\n",
       "                                            Description  \\\n",
       "0     This docuseries takes a deep dive into the luc...   \n",
       "1     As a grisly virus rampages a city, a lone man ...   \n",
       "2     Through her diary, Anne Frank's story is retol...   \n",
       "3     Kenya Barris and his family navigate relations...   \n",
       "4     This pawesome documentary explores how our fel...   \n",
       "...                                                 ...   \n",
       "5962  On his wedding day, an arrogant, greedy accoun...   \n",
       "5963  A group of women leaves Kuwait to attend unive...   \n",
       "5964  Two brothers start a new life in Singapore, wh...   \n",
       "5965  After people in his town start turning up dead...   \n",
       "5966  Miniforce, a special task force of elite range...   \n",
       "\n",
       "                         Director  \\\n",
       "0                             NaN   \n",
       "1                          Cho Il   \n",
       "2     Sabina Fedeli, Anna Migotto   \n",
       "3                             NaN   \n",
       "4                Michael Margolis   \n",
       "...                           ...   \n",
       "5962            Ahmed Nader Galal   \n",
       "5963                          NaN   \n",
       "5964                          NaN   \n",
       "5965                Hong-seon Kim   \n",
       "5966                Young Jun Lee   \n",
       "\n",
       "                                              Genres  \\\n",
       "0                                         Reality TV   \n",
       "1     Horror Movies, International Movies, Thrillers   \n",
       "2                Documentaries, International Movies   \n",
       "3                                        TV Comedies   \n",
       "4                Documentaries, International Movies   \n",
       "...                                              ...   \n",
       "5962          Comedies, Dramas, International Movies   \n",
       "5963               International TV Shows, TV Dramas   \n",
       "5964               International TV Shows, TV Dramas   \n",
       "5965         Dramas, International Movies, Thrillers   \n",
       "5966                        Children & Family Movies   \n",
       "\n",
       "                                                   Cast Production Country  \\\n",
       "0                                                   NaN      United States   \n",
       "1                              Yoo Ah-in, Park Shin-hye        South Korea   \n",
       "2                           Helen Mirren, Gengher Gatti              Italy   \n",
       "3     Kenya Barris, Rashida Jones, Iman Benson, Genn...      United States   \n",
       "4                                                   NaN             Canada   \n",
       "...                                                 ...                ...   \n",
       "5962  Ahmed Helmy, Laila Ezz El Arab, Mahmoud El Fis...              Egypt   \n",
       "5963  Bashar al-Shatti, Fatima Al Safi, Maram Baloch...                NaN   \n",
       "5964  Li Nanxing, Christopher Lee, Jesseca Liu, Appl...                NaN   \n",
       "5965                                      Baek Yoon-sik        South Korea   \n",
       "5966  Um Sang-hyun, Yang Jeong-hwa, Jeon Tae-yeol, S...                NaN   \n",
       "\n",
       "      Release Date Rating  Duration Imdb Score Content Type         Date Added  \n",
       "0           2020.0  TV-MA  1 Season     6.6/10      TV Show                NaN  \n",
       "1           2020.0  TV-MA    99 min     6.2/10        Movie  September 8, 2020  \n",
       "2           2019.0  TV-14    95 min     6.4/10        Movie       July 1, 2020  \n",
       "3           2020.0  TV-MA  1 Season     6.6/10      TV Show                NaN  \n",
       "4           2020.0  TV-14    90 min     5.1/10        Movie   February 5, 2020  \n",
       "...            ...    ...       ...        ...          ...                ...  \n",
       "5962        2009.0  TV-14   115 min     7.4/10        Movie     April 25, 2020  \n",
       "5963        2019.0  TV-14  1 Season        NaN      TV Show                NaN  \n",
       "5964        2016.0  TV-14  1 Season        NaN      TV Show                NaN  \n",
       "5965        2017.0  TV-MA   110 min     6.5/10        Movie  February 28, 2018  \n",
       "5966        2018.0  TV-Y7    68 min     4.7/10        Movie  September 1, 2018  \n",
       "\n",
       "[5967 rows x 13 columns]"
      ]
     },
     "execution_count": 3,
     "metadata": {},
     "output_type": "execute_result"
    }
   ],
   "source": [
    "data"
   ]
  },
  {
   "cell_type": "code",
   "execution_count": 6,
   "id": "bd43f0a0",
   "metadata": {},
   "outputs": [
    {
     "data": {
      "text/plain": [
       "<AxesSubplot:xlabel='Content Type', ylabel='count'>"
      ]
     },
     "execution_count": 6,
     "metadata": {},
     "output_type": "execute_result"
    },
    {
     "data": {
      "image/png": "[encoded data removed]",
      "text/plain": [
       "<Figure size 432x288 with 1 Axes>"
      ]
     },
     "metadata": {
      "needs_background": "light"
     },
     "output_type": "display_data"
    }
   ],
   "source": [
    "sns.countplot(x=\"Content Type\",data=data)"
   ]
  },
  {
   "cell_type": "code",
   "execution_count": 7,
   "id": "a9ac37e3",
   "metadata": {},
   "outputs": [
    {
     "data": {
      "text/plain": [
       "Movie      3867\n",
       "TV Show    2100\n",
       "Name: Content Type, dtype: int64"
      ]
     },
     "execution_count": 7,
     "metadata": {},
     "output_type": "execute_result"
    }
   ],
   "source": [
    "data[\"Content Type\"].value_counts()"
   ]
  },
  {
   "cell_type": "code",
   "execution_count": 8,
   "id": "34ca21d3",
   "metadata": {},
   "outputs": [
    {
     "data": {
      "text/plain": [
       "United States                          1792\n",
       "India                                   628\n",
       "United Kingdom                          244\n",
       "Japan                                   221\n",
       "South Korea                             167\n",
       "                                       ... \n",
       "United Arab Emirates, United States       1\n",
       "United Kingdom, Japan                     1\n",
       "Argentina, Uruguay, Serbia                1\n",
       "India, Pakistan                           1\n",
       "Belgium, France                           1\n",
       "Name: Production Country, Length: 509, dtype: int64"
      ]
     },
     "execution_count": 8,
     "metadata": {},
     "output_type": "execute_result"
    }
   ],
   "source": [
    "data[\"Production Country\"].value_counts()"
   ]
  },
  {
   "cell_type": "code",
   "execution_count": 9,
   "id": "aea93542",
   "metadata": {},
   "outputs": [
    {
     "data": {
      "text/plain": [
       "<AxesSubplot:xlabel='Production Country', ylabel='count'>"
      ]
     },
     "execution_count": 9,
     "metadata": {},
     "output_type": "execute_result"
    },
    {
     "data": {
      "image/png": "[encoded data removed]",
      "text/plain": [
       "<Figure size 432x288 with 1 Axes>"
      ]
     },
     "metadata": {
      "needs_background": "light"
     },
     "output_type": "display_data"
    }
   ],
   "source": [
    "sns.countplot(x=\"Production Country\",data=data)"
   ]
  },
  {
   "cell_type": "code",
   "execution_count": null,
   "id": "b7e1b8b0",
   "metadata": {},
   "outputs": [],
   "source": []
  }
 ],
 "metadata": {
  "kernelspec": {
   "display_name": "Python 3",
   "language": "python",
   "name": "python3"
  },
  "language_info": {
   "codemirror_mode": {
    "name": "ipython",
    "version": 3
   },
   "file_extension": ".py",
   "mimetype": "text/x-python",
   "name": "python",
   "nbconvert_exporter": "python",
   "pygments_lexer": "ipython3",
   "version": "3.8.8"
  }
 },
 "nbformat": 4,
 "nbformat_minor": 5
}
